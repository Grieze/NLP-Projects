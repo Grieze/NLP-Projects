{
 "cells": [
  {
   "cell_type": "code",
   "execution_count": 1,
   "metadata": {},
   "outputs": [
    {
     "name": "stderr",
     "output_type": "stream",
     "text": [
      "Using TensorFlow backend.\n"
     ]
    },
    {
     "name": "stdout",
     "output_type": "stream",
     "text": [
      "1800 1800\n"
     ]
    }
   ],
   "source": [
    "from nltk.corpus import stopwords\n",
    "import string, re\n",
    "from os import listdir\n",
    "from collections import Counter\n",
    "import keras\n",
    "from keras.preprocessing.text import Tokenizer\n",
    "from keras import Sequential\n",
    "from keras.layers import Dense\n",
    "# import string and re for string and regex manipulation\n",
    "# import stopwords to filter them out for memory usuage\n",
    "\n",
    "\n",
    "# load doc into memory\n",
    "def load_doc(filename):\n",
    "    # open the file as read only\n",
    "    file = open(filename, 'r')\n",
    "    # read all the text\n",
    "    text = file.read()\n",
    "    # close the file\n",
    "    file.close()\n",
    "    return text\n",
    "\n",
    "# turn a doc into clean tokens\n",
    "def clean_doc(doc):\n",
    "    # split into tokens by white space\n",
    "    tokens = doc.split()\n",
    "    # prepare regex for char filtering\n",
    "    re_punc = re.compile('[%s]' % re.escape(string.punctuation))\n",
    "    # remove punctuation from each word\n",
    "    tokens = [re_punc.sub('', w) for w in tokens]\n",
    "    # remove remaining tokens that are not alphabetic\n",
    "    tokens = [word for word in tokens if word.isalpha()]\n",
    "    # filter out stop words\n",
    "    stop_words = set(stopwords.words('english'))\n",
    "    tokens = [w for w in tokens if not w in stop_words]\n",
    "    # filter out short tokens\n",
    "    tokens = [word for word in tokens if len(word)>1]\n",
    "    return tokens\n",
    "\n",
    "# add doc_to_line() which cleans and filters out tokens not in vocabulary\n",
    "# load doc, clean and return line of tokens\n",
    "def doc_to_line(filename, vocab):\n",
    "    # load the doc\n",
    "    doc = load_doc(filename)\n",
    "    # clean doc\n",
    "    tokens = clean_doc(doc)\n",
    "    # filter by vocab\n",
    "    tokens = [w for w in tokens if w in vocab]\n",
    "    return ' '.join(tokens)\n",
    "\n",
    "# load all docs in a directory\n",
    "def process_docs(directory, vocab, is_train):\n",
    "    lines = []\n",
    "    # walk through all files in the folder\n",
    "    for filename in listdir(directory):\n",
    "        # skip any reviews in the test set\n",
    "        # added is_train argument which is a boolean variable\n",
    "        if is_train and filename.startswith('cv9'):\n",
    "            continue\n",
    "        if not is_train and not filename.startswith('cv9'):\n",
    "            continue\n",
    "        # create the full path of the file to open\n",
    "        path = directory + '\\\\' + filename\n",
    "        # load and clean the doc\n",
    "        line = doc_to_line(path, vocab)\n",
    "        # add to list\n",
    "        lines.append(line)\n",
    "    return lines\n",
    "\n",
    "# load and clean a dataset\n",
    "def load_clean_dataset(vocab, is_train):\n",
    "    # takes in our vocabularly list that we've created by removing stopwords\n",
    "    # from our data and filtering out words that appear < 2 times.\n",
    "    # load the documents\n",
    "    # added is_train argument which is a boolean variable\n",
    "    neg = process_docs('C:\\\\Users\\\\Aaron\\\\Downloads\\\\txt_sentoken\\\\neg', vocab, is_train)\n",
    "    pos = process_docs('C:\\\\Users\\\\Aaron\\\\Downloads\\\\txt_sentoken\\\\pos', vocab, is_train)\n",
    "    docs = neg + pos\n",
    "    # prepare labels\n",
    "    labels = [0 for _ in range(len(neg))] + [1 for _ in range(len(pos))]\n",
    "    return docs, labels\n",
    "\n",
    "# important to note that here, the data is still not split yet!\n",
    "# however, our vocabularly is based off of the first 900 words in neg and \n",
    "# first 900 in pos! So we have 200 files that potentially have words that are\n",
    "# not in our vocabuluary list!\n",
    "\n",
    "# load our vocabulary text file which was previously saved\n",
    "vocab_filename = 'vocab.txt'\n",
    "vocab = load_doc(vocab_filename)\n",
    "vocab = set(vocab.split())\n",
    "\n",
    "# load all train reviews\n",
    "docs, labels = load_clean_dataset(vocab, True)\n",
    "# quick summary of what we have\n",
    "print(len(docs), len(labels))\n",
    "\n",
    "# Keras has a tokenizer class we could use that would just do all of the \n",
    "# work that we did above, but if we use it we're in less control and \n",
    "# know less of why our tokens are the way they are\n",
    "\n",
    "# fit a tokenizer\n",
    "def create_tokenizer(lines):\n",
    "    tokenizer = Tokenizer()\n",
    "    tokenizer.fit_on_texts(lines)\n",
    "    return tokenizer"
   ]
  },
  {
   "cell_type": "code",
   "execution_count": 2,
   "metadata": {},
   "outputs": [
    {
     "name": "stdout",
     "output_type": "stream",
     "text": [
      "(1800, 25768) (200, 25768)\n"
     ]
    }
   ],
   "source": [
    "# load all reviews\n",
    "# create training and test sets\n",
    "train_docs, y_train = load_clean_dataset(vocab, True)\n",
    "test_docs, y_test = load_clean_dataset(vocab, False)\n",
    "# create the tokenizer\n",
    "tokenizer = create_tokenizer(train_docs)\n",
    "# encode data\n",
    "X_train = tokenizer.texts_to_matrix(train_docs, mode = 'freq')\n",
    "X_test = tokenizer.texts_to_matrix(test_docs, mode = 'freq')\n",
    "print(X_train.shape, X_test.shape)"
   ]
  },
  {
   "cell_type": "code",
   "execution_count": 3,
   "metadata": {},
   "outputs": [
    {
     "data": {
      "text/plain": [
       "array([0.        , 0.01519757, 0.00911854, ..., 0.        , 0.        ,\n",
       "       0.        ])"
      ]
     },
     "execution_count": 3,
     "metadata": {},
     "output_type": "execute_result"
    }
   ],
   "source": [
    "X_train[0]"
   ]
  },
  {
   "cell_type": "code",
   "execution_count": 4,
   "metadata": {},
   "outputs": [],
   "source": [
    "# create size of input called n_words for our MLP model\n",
    "n_words = X_test.shape[1]"
   ]
  },
  {
   "cell_type": "code",
   "execution_count": 10,
   "metadata": {},
   "outputs": [],
   "source": [
    "# create a checkpoint call back to save the best model\n",
    "checkpoint_cb = keras.callbacks.ModelCheckpoint(\"IMDB_Sentiment_Model.h5\",\n",
    "                                                save_best_only=True)\n",
    "\n",
    "# create model using function\n",
    "def define_model(n_words):\n",
    "    # defining quick MLP\n",
    "    model = Sequential()\n",
    "    model.add(Dense(50, input_shape=(n_words,), activation='relu'))\n",
    "    model.add(Dense(100, activation='relu'))\n",
    "    model.add(Dense(100, activation='relu'))\n",
    "    model.add(Dense(50, activation='relu'))\n",
    "    model.add(Dense(1, activation='sigmoid'))\n",
    "    # compile network\n",
    "    model.compile(loss='binary_crossentropy', \n",
    "                  optimizer='adam',\n",
    "                  metrics=['accuracy'],)\n",
    "    # summarize defined model\n",
    "    model.summary()\n",
    "    # plot_model(model, to_file='model.png', show_shapes=True)\n",
    "    return model"
   ]
  },
  {
   "cell_type": "code",
   "execution_count": 11,
   "metadata": {},
   "outputs": [
    {
     "name": "stdout",
     "output_type": "stream",
     "text": [
      "Model: \"sequential_2\"\n",
      "_________________________________________________________________\n",
      "Layer (type)                 Output Shape              Param #   \n",
      "=================================================================\n",
      "dense_5 (Dense)              (None, 50)                1288450   \n",
      "_________________________________________________________________\n",
      "dense_6 (Dense)              (None, 100)               5100      \n",
      "_________________________________________________________________\n",
      "dense_7 (Dense)              (None, 100)               10100     \n",
      "_________________________________________________________________\n",
      "dense_8 (Dense)              (None, 50)                5050      \n",
      "_________________________________________________________________\n",
      "dense_9 (Dense)              (None, 1)                 51        \n",
      "=================================================================\n",
      "Total params: 1,308,751\n",
      "Trainable params: 1,308,751\n",
      "Non-trainable params: 0\n",
      "_________________________________________________________________\n",
      "Epoch 1/8\n",
      "1800/1800 [==============================] - 1s 761us/step - loss: 0.6929 - accuracy: 0.4889\n",
      "Epoch 2/8\n",
      "1800/1800 [==============================] - 1s 667us/step - loss: 0.6324 - accuracy: 0.6894\n",
      "Epoch 3/8\n",
      "1800/1800 [==============================] - 1s 638us/step - loss: 0.2166 - accuracy: 0.9511\n",
      "Epoch 4/8\n",
      "1800/1800 [==============================] - 1s 671us/step - loss: 0.0219 - accuracy: 0.9972\n",
      "Epoch 5/8\n",
      "1800/1800 [==============================] - 1s 646us/step - loss: 0.0053 - accuracy: 1.0000\n",
      "Epoch 6/8\n",
      "1800/1800 [==============================] - 1s 643us/step - loss: 0.0017 - accuracy: 1.0000\n",
      "Epoch 7/8\n",
      "1800/1800 [==============================] - 1s 687us/step - loss: 9.8860e-04 - accuracy: 1.0000\n",
      "Epoch 8/8\n",
      "1800/1800 [==============================] - 1s 662us/step - loss: 6.5623e-04 - accuracy: 1.0000\n"
     ]
    },
    {
     "data": {
      "text/plain": [
       "<keras.callbacks.callbacks.History at 0x263800f94c8>"
      ]
     },
     "execution_count": 11,
     "metadata": {},
     "output_type": "execute_result"
    }
   ],
   "source": [
    "# create model\n",
    "model = define_model(n_words)\n",
    "# fit our model\n",
    "model.fit(X_train, y_train, epochs=8, callbacks=[checkpoint_cb])"
   ]
  },
  {
   "cell_type": "code",
   "execution_count": 12,
   "metadata": {},
   "outputs": [
    {
     "name": "stdout",
     "output_type": "stream",
     "text": [
      "200/200 [==============================] - 0s 290us/step\n",
      "Test Accuracy: 91.000003\n"
     ]
    }
   ],
   "source": [
    "# evaluating our model\n",
    "loss, acc = model.evaluate(X_test, y_test)\n",
    "print('Test Accuracy: %f' % (acc*100))"
   ]
  },
  {
   "cell_type": "markdown",
   "metadata": {},
   "source": [
    "# Predicting Sentiment for New Reviews"
   ]
  },
  {
   "cell_type": "code",
   "execution_count": 8,
   "metadata": {},
   "outputs": [],
   "source": [
    "# classify a review as negative or positive\n",
    "def predict_sentiment(review, vocab, tokenizer, model):\n",
    "    # clean/prep new unseen review for model\n",
    "    tokens = clean_doc(review)\n",
    "    # filter by vocab\n",
    "    tokens = [w for w in tokens if w in vocab]\n",
    "    # convert to line\n",
    "    line = ' '.join(tokens)\n",
    "    # encode the data\n",
    "    encoded = tokenizer.texts_to_matrix([line], mode = 'binary')\n",
    "    # predict sentiment\n",
    "    prediction = model.predict(encoded, verbose = 0)\n",
    "    percent_pos = prediction[0,0]\n",
    "    if round(percent_pos) == 0:\n",
    "        return (1-percent_pos), 'NEGATIVE'\n",
    "    return percent_pos, 'POSITIVE'"
   ]
  },
  {
   "cell_type": "code",
   "execution_count": 9,
   "metadata": {},
   "outputs": [
    {
     "name": "stdout",
     "output_type": "stream",
     "text": [
      "Review: [Best movie ever! It was great and I recommend it.]\n",
      "Sentiment: POSITIVE (100.000%)\n",
      "Review: [This is a bad movie.]\n",
      "Sentiment: NEGATIVE (100.000%)\n"
     ]
    }
   ],
   "source": [
    "# test positive text\n",
    "text = 'Best movie ever! It was great and I recommend it.'\n",
    "percent, sentiment = predict_sentiment(text, vocab, tokenizer, model)\n",
    "print('Review: [%s]\\nSentiment: %s (%.3f%%)' % (text, sentiment, percent*100))\n",
    "# test negative text\n",
    "text = 'This is a bad movie.'\n",
    "percent, sentiment = predict_sentiment(text, vocab, tokenizer, model)\n",
    "print('Review: [%s]\\nSentiment: %s (%.3f%%)' % (text, sentiment, percent*100))"
   ]
  }
 ],
 "metadata": {
  "kernelspec": {
   "display_name": "Python 3",
   "language": "python",
   "name": "python3"
  },
  "language_info": {
   "codemirror_mode": {
    "name": "ipython",
    "version": 3
   },
   "file_extension": ".py",
   "mimetype": "text/x-python",
   "name": "python",
   "nbconvert_exporter": "python",
   "pygments_lexer": "ipython3",
   "version": "3.7.9"
  }
 },
 "nbformat": 4,
 "nbformat_minor": 4
}
