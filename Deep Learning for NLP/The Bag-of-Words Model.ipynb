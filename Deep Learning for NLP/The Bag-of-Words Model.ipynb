{
 "cells": [
  {
   "cell_type": "markdown",
   "metadata": {},
   "source": [
    "It is called a bag-of-words , because any information about the order or structure of words in the document is discarded. The model is only concerned with whether known words occur in the document, not where in the document."
   ]
  },
  {
   "cell_type": "markdown",
   "metadata": {},
   "source": [
    "n-grams is a combination of n-tokens into a stream of tokens.\n",
    "Say we have a 4 token sentence: \"Please turn your homework\"\n",
    "\n",
    "Example of a 2-gram or bi-gram (spelled bigram) is \"please turn\" or \"your homework\"\n",
    "\n",
    "Exampe of a 3-gram or trigram is \"please turn your\" or \"turn your homework\"\n",
    "\n",
    "Basically n-gram is a group of n tokens"
   ]
  },
  {
   "cell_type": "code",
   "execution_count": null,
   "metadata": {},
   "outputs": [],
   "source": []
  }
 ],
 "metadata": {
  "kernelspec": {
   "display_name": "Python 3",
   "language": "python",
   "name": "python3"
  },
  "language_info": {
   "codemirror_mode": {
    "name": "ipython",
    "version": 3
   },
   "file_extension": ".py",
   "mimetype": "text/x-python",
   "name": "python",
   "nbconvert_exporter": "python",
   "pygments_lexer": "ipython3",
   "version": "3.7.9"
  }
 },
 "nbformat": 4,
 "nbformat_minor": 4
}
